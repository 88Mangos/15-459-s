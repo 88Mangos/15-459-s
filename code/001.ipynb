{
 "cells": [
  {
   "cell_type": "markdown",
   "metadata": {},
   "source": [
    "# \\#1\\/100: Toggling qubits"
   ]
  },
  {
   "cell_type": "code",
   "execution_count": 1,
   "metadata": {},
   "outputs": [],
   "source": [
    "import itertools\n",
    "def get_test_cases(n):\n",
    "    \"\"\"\n",
    "    Generate all possible test cases for a boolean function with n variables.\n",
    "    \n",
    "    Args:\n",
    "        n (int): Number of boolean variables (free variables)\n",
    "    \n",
    "    Returns:\n",
    "        list: A list of all possible boolean combinations\n",
    "    \n",
    "    Examples:\n",
    "        >>> get_test_cases(1)\n",
    "        [[0], [1]]\n",
    "        >>> get_test_cases(2)\n",
    "        [[0, 0], [0, 1], [1, 0], [1, 1]]\n",
    "        >>> get_test_cases(3)\n",
    "        [[0, 0, 0], [0, 0, 1], [0, 1, 0], [0, 1, 1], \n",
    "         [1, 0, 0], [1, 0, 1], [1, 1, 0], [1, 1, 1]]\n",
    "    \"\"\"\n",
    "    if n < 1:\n",
    "        return []\n",
    "    return list(itertools.product([0, 1], repeat=n))"
   ]
  },
  {
   "cell_type": "markdown",
   "metadata": {},
   "source": [
    "Say that you are allowed to use the following quantum instructions:\n",
    "- toggle \\___\n",
    "- if \\___ then toggle \\___\n",
    "- if (\\__ AND \\__) then toggle \\___\n",
    "where the blanks may be filled in by *distinct* qubit variable names (like **A**, **B**, **C**, etc.)"
   ]
  },
  {
   "cell_type": "code",
   "execution_count": 3,
   "metadata": {},
   "outputs": [],
   "source": [
    "# ONLY USE THESE FUNCTIONS\n",
    "def toggle(Q):\n",
    "    return int(not Q)\n",
    "def if_thenToggle_(A, B):\n",
    "    return int(not B if A else B)\n",
    "def if_AND_thenToggle_(A, B, C):\n",
    "    return int(not C if (A and B) else C)"
   ]
  },
  {
   "cell_type": "markdown",
   "metadata": {},
   "source": [
    "(a) Suppose you want to write a little subroutine that implements $\\verb|if (A OR B) then toggle C|$. Show how to do it using only the three allowed instructions. After this operation, $\\mathbf{A}$ and $\\mathbf{B}$ should be in their original states.\n"
   ]
  },
  {
   "cell_type": "code",
   "execution_count": 4,
   "metadata": {},
   "outputs": [],
   "source": [
    "def a(A,B,C):\n",
    "    return None # TODO: delete this line\n",
    "                # TODO: write your code!\n",
    "    return C"
   ]
  },
  {
   "cell_type": "code",
   "execution_count": 5,
   "metadata": {},
   "outputs": [],
   "source": [
    "# specification function\n",
    "def if_OR_thenToggle_(A,B,C):\n",
    "    return int(not C if (A or B) else C)\n",
    "\n",
    "for case in get_test_cases(2):\n",
    "    correct_ans = if_OR_thenToggle_(case[0], case[1], 0)\n",
    "    your_ans = a(case[0], case[1], 0)\n",
    "    if your_ans != correct_ans:\n",
    "        print(\"wrong answer\")"
   ]
  },
  {
   "cell_type": "markdown",
   "metadata": {},
   "source": [
    "(b) Same question but for implementing $\\verb|if (NOT A) then toggle B|$. After this operation, $\\mathbf{A}$ should be back to its original state."
   ]
  },
  {
   "cell_type": "code",
   "execution_count": 6,
   "metadata": {},
   "outputs": [],
   "source": [
    "def b(A, B):\n",
    "    return None # TODO: delete this line\n",
    "                # TODO: write your code!\n",
    "    return B"
   ]
  },
  {
   "cell_type": "code",
   "execution_count": 7,
   "metadata": {},
   "outputs": [],
   "source": [
    "def if_NOT_thenToggle_(A, B):\n",
    "    return int(not B if not A else B)\n",
    "\n",
    "for case in get_test_cases(1):\n",
    "    correct_ans = if_NOT_thenToggle_(case, 0)\n",
    "    your_ans = b(case, 0)\n",
    "    # print(f'expected: {if_OR_thenToggle_(case[0], case[1], 0)}')\n",
    "    # print(f'received: {a(case[0], case[1], 0)}')\n",
    "    if your_ans != correct_ans:\n",
    "        print(\"wrong answer\")"
   ]
  },
  {
   "cell_type": "markdown",
   "metadata": {},
   "source": [
    "(c) Same but for $\\verb|IncrMod4 A, B|$, which treats the two bits $\\mathbf{A, B}$ as the binary encoding of a number from $\\{0,1,2,3\\}$ (with $\\mathbf{A}$ as the most significant bit and $\\mathbf{B}$ the least), and acts by incrementing this number by 1, modulo 4."
   ]
  },
  {
   "cell_type": "markdown",
   "metadata": {},
   "source": [
    "Reasoning for part (c)\n",
    "\n",
    "Think of adding binary numbers. If your units digit is a 0, we don't flip anything except the units digit (to 1). If your units digit is 1, you flip every subsequent 1 bit until you reach a zero bit. \n",
    "\n",
    "    # if B started as 0, we don't want to change A.\n",
    "    # if B started as 1, we do want to change A. \"bit flipping\" the next one\n",
    "    # in essence, we reimplement if NOT B then toggle A."
   ]
  },
  {
   "cell_type": "code",
   "execution_count": 8,
   "metadata": {},
   "outputs": [],
   "source": [
    "def c(A, B):    \n",
    "    return None # TODO: delete this line\n",
    "                # TODO: write your code!\n",
    "    return (A, B)"
   ]
  },
  {
   "cell_type": "code",
   "execution_count": 9,
   "metadata": {},
   "outputs": [],
   "source": [
    "def IncrMod4(A, B):\n",
    "    test_cases = get_test_cases(2)\n",
    "    for i in range(4):\n",
    "        if (A,B) == test_cases[i]:\n",
    "            return test_cases[(i+1)%4]\n",
    "        \n",
    "for case in get_test_cases(2):\n",
    "    if not (IncrMod4(case[0], case[1]) == c(case[0], case[1])):\n",
    "        print(\"wrong answer\")"
   ]
  },
  {
   "cell_type": "markdown",
   "metadata": {},
   "source": [
    "(d) Same but for $\\verb|IncrMod8 A, B, C|$."
   ]
  },
  {
   "cell_type": "markdown",
   "metadata": {},
   "source": [
    "if C is a 0, we toggle nothing.\n",
    "if C is a 1, we need to toggle B.\n",
    "if B and C are both ones, we need to toggle A."
   ]
  },
  {
   "cell_type": "code",
   "execution_count": 10,
   "metadata": {},
   "outputs": [],
   "source": [
    "def d(A, B, C):\n",
    "    return None # TODO: delete this line\n",
    "                # TODO: write your code!\n",
    "    return (A, B, C)"
   ]
  },
  {
   "cell_type": "code",
   "execution_count": 11,
   "metadata": {},
   "outputs": [],
   "source": [
    "def IncrMod8(A, B, C):\n",
    "    test_cases = get_test_cases(3)\n",
    "    for i in range(8):\n",
    "        if (A,B,C) == test_cases[i]:\n",
    "            return test_cases[(i+1)%8]\n",
    "        \n",
    "for case in get_test_cases(3):\n",
    "    if not (IncrMod8(case[0], case[1], case[2]) == d(case[0], case[1], case[2])):\n",
    "        print(\"wrong answer\")"
   ]
  },
  {
   "cell_type": "markdown",
   "metadata": {},
   "source": [
    "(e) Same but for $\\verb|IncrMod3 A, B|$, which treats the two bits $\\mathbf{A, B}$ as the binary encoding of a number from $\\{0,1,2\\}$ and adds 1 mod 3 -- and additionally just leaves the ``invalid'' case of $\\mathbf{A, B} = \\ket{11}$ as-is."
   ]
  },
  {
   "cell_type": "code",
   "execution_count": 16,
   "metadata": {},
   "outputs": [],
   "source": [
    "def e(A, B):\n",
    "    return None # TODO: delete this line\n",
    "                # TODO: write your code!\n",
    "    return (A, B)"
   ]
  },
  {
   "cell_type": "code",
   "execution_count": 18,
   "metadata": {},
   "outputs": [],
   "source": [
    "def IncrMod3(A, B):\n",
    "    test_cases = get_test_cases(2)\n",
    "    for i in range(4):\n",
    "        if i == 3:\n",
    "            return test_cases[i]\n",
    "        elif (A,B) == test_cases[i]:\n",
    "            return test_cases[(i+1)%3]\n",
    "        \n",
    "for case in get_test_cases(2):\n",
    "    if not (IncrMod3(case[0], case[1]) == e(case[0], case[1])):\n",
    "        print(case)\n",
    "        print(f\" expected:{IncrMod3(case[0], case[1])}\")\n",
    "        print(f\"wrong answer:{e(case[0], case[1])}\")"
   ]
  },
  {
   "cell_type": "markdown",
   "metadata": {},
   "source": [
    "(f) Same but for $\\verb|SWAP A, B|$ (which does what you think it does)"
   ]
  },
  {
   "cell_type": "code",
   "execution_count": 38,
   "metadata": {},
   "outputs": [],
   "source": [
    "def f(A, B):\n",
    "    return None # TODO: delete this line\n",
    "                # TODO: write your code!\n",
    "    return (A, B)"
   ]
  },
  {
   "cell_type": "code",
   "execution_count": 39,
   "metadata": {},
   "outputs": [],
   "source": [
    "def SWAP(A, B):\n",
    "    return (B, A)\n",
    "\n",
    "for case in get_test_cases(2):\n",
    "    if not (SWAP(case[0], case[1]) == f(case[0], case[1])):\n",
    "        print(case)\n",
    "        print(\"wrong answer\")"
   ]
  },
  {
   "cell_type": "markdown",
   "metadata": {},
   "source": [
    "(g) Same but for $\\verb|LeftCyclicShift A, B, C|$ which \n",
    "sets $\\mathbf{A}$'s new value to $\\mathbf{B}$'s old value, \n",
    "sets $\\mathbf{B}$'s new value to $\\mathbf{C}$'s old value, and \n",
    "sets $\\mathbf{C}$'s new value to $\\mathbf{A}$'s old value. You can call subroutines you've previously written, if you want."
   ]
  },
  {
   "cell_type": "code",
   "execution_count": 40,
   "metadata": {},
   "outputs": [],
   "source": [
    "def g(A, B, C):\n",
    "    return None # TODO: delete this line\n",
    "                # TODO: write your code!\n",
    "    return (A, B, C)"
   ]
  },
  {
   "cell_type": "code",
   "execution_count": 41,
   "metadata": {},
   "outputs": [],
   "source": [
    "def LeftCyclicShift(A, B, C):\n",
    "    return (B, C, A)\n",
    "\n",
    "for case in get_test_cases(3):\n",
    "    if not (LeftCyclicShift(case[0], case[1], case[2]) == g(case[0], case[1], case[2])):\n",
    "        print(\"wrong answer\")"
   ]
  },
  {
   "cell_type": "markdown",
   "metadata": {},
   "source": [
    "(h) Same but for $\\verb|RightCyclicShift A, B, C|$"
   ]
  },
  {
   "cell_type": "code",
   "execution_count": 42,
   "metadata": {},
   "outputs": [],
   "source": [
    "def h(A, B, C):\n",
    "    return None # TODO: delete this line\n",
    "                # TODO: write your code!\n",
    "    return (A, B, C)"
   ]
  },
  {
   "cell_type": "code",
   "execution_count": 43,
   "metadata": {},
   "outputs": [],
   "source": [
    "def RightCyclicShift(A, B, C):\n",
    "    return (C, A, B)\n",
    "\n",
    "for case in get_test_cases(3):\n",
    "    if not (RightCyclicShift(case[0], case[1], case[2]) == h(case[0], case[1], case[2])):\n",
    "        print(\"wrong answer\")"
   ]
  },
  {
   "cell_type": "markdown",
   "metadata": {},
   "source": [
    "(i) Go into python iteractive mode and type:\n",
    "\n",
    "$\\verb|(x, y) = (459, 314)|$\n",
    "\n",
    "$\\verb|x ^= y |$\n",
    "\n",
    "$\\verb|y ^= x |$\n",
    "\n",
    "$\\verb|x ^= y |$\n",
    "\n",
    "$\\verb|(x, y) |$\n",
    "\n",
    "What does it print out? Explain how/why this happened."
   ]
  },
  {
   "cell_type": "code",
   "execution_count": 44,
   "metadata": {},
   "outputs": [
    {
     "name": "stdout",
     "output_type": "stream",
     "text": [
      "(241, 314)\n",
      "(241, 459)\n",
      "(314, 459)\n"
     ]
    }
   ],
   "source": [
    "# NOTE ^ in Python is bitwise XOR.\n",
    "(x, y) = (459, 314)\n",
    "x ^= y \n",
    "print((x, y)) # Tyler's addition\n",
    "y ^= x\n",
    "print((x, y)) # Tyler's addition\n",
    "x ^= y \n",
    "print((x, y))"
   ]
  }
 ],
 "metadata": {
  "kernelspec": {
   "display_name": "qiskit",
   "language": "python",
   "name": "python3"
  },
  "language_info": {
   "codemirror_mode": {
    "name": "ipython",
    "version": 3
   },
   "file_extension": ".py",
   "mimetype": "text/x-python",
   "name": "python",
   "nbconvert_exporter": "python",
   "pygments_lexer": "ipython3",
   "version": "3.10.14"
  }
 },
 "nbformat": 4,
 "nbformat_minor": 2
}
